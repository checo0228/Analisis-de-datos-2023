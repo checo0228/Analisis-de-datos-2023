{
 "cells": [
  {
   "cell_type": "code",
   "execution_count": 2,
   "id": "ac1f92ab",
   "metadata": {},
   "outputs": [
    {
     "name": "stdout",
     "output_type": "stream",
     "text": [
      "Collecting wikipedia==1.4.0\n",
      "  Downloading wikipedia-1.4.0.tar.gz (27 kB)\n",
      "  Preparing metadata (setup.py): started\n",
      "  Preparing metadata (setup.py): finished with status 'done'\n",
      "Requirement already satisfied: beautifulsoup4 in c:\\users\\eduar\\anaconda3\\lib\\site-packages (from wikipedia==1.4.0) (4.11.1)\n",
      "Requirement already satisfied: requests<3.0.0,>=2.0.0 in c:\\users\\eduar\\anaconda3\\lib\\site-packages (from wikipedia==1.4.0) (2.28.1)\n",
      "Requirement already satisfied: charset-normalizer<3,>=2 in c:\\users\\eduar\\anaconda3\\lib\\site-packages (from requests<3.0.0,>=2.0.0->wikipedia==1.4.0) (2.0.4)\n",
      "Requirement already satisfied: certifi>=2017.4.17 in c:\\users\\eduar\\anaconda3\\lib\\site-packages (from requests<3.0.0,>=2.0.0->wikipedia==1.4.0) (2022.9.14)\n",
      "Requirement already satisfied: idna<4,>=2.5 in c:\\users\\eduar\\anaconda3\\lib\\site-packages (from requests<3.0.0,>=2.0.0->wikipedia==1.4.0) (3.3)\n",
      "Requirement already satisfied: urllib3<1.27,>=1.21.1 in c:\\users\\eduar\\anaconda3\\lib\\site-packages (from requests<3.0.0,>=2.0.0->wikipedia==1.4.0) (1.26.11)\n",
      "Requirement already satisfied: soupsieve>1.2 in c:\\users\\eduar\\anaconda3\\lib\\site-packages (from beautifulsoup4->wikipedia==1.4.0) (2.3.1)\n",
      "Building wheels for collected packages: wikipedia\n",
      "  Building wheel for wikipedia (setup.py): started\n",
      "  Building wheel for wikipedia (setup.py): finished with status 'done'\n",
      "  Created wheel for wikipedia: filename=wikipedia-1.4.0-py3-none-any.whl size=11680 sha256=3d5c57e685a7c14cefb18a466f97f486851e79735f528bdd433f87dd373786d4\n",
      "  Stored in directory: c:\\users\\eduar\\appdata\\local\\pip\\cache\\wheels\\c2\\46\\f4\\caa1bee71096d7b0cdca2f2a2af45cacf35c5760bee8f00948\n",
      "Successfully built wikipedia\n",
      "Installing collected packages: wikipedia\n",
      "Successfully installed wikipedia-1.4.0\n",
      "Note: you may need to restart the kernel to use updated packages.\n"
     ]
    }
   ],
   "source": [
    "pip install wikipedia==1.4.0\n"
   ]
  },
  {
   "cell_type": "code",
   "execution_count": 12,
   "id": "660a3dc9",
   "metadata": {},
   "outputs": [
    {
     "name": "stderr",
     "output_type": "stream",
     "text": [
      "C:\\Users\\eduar\\anaconda3\\lib\\site-packages\\wikipedia\\wikipedia.py:389: GuessedAtParserWarning: No parser was explicitly specified, so I'm using the best available HTML parser for this system (\"lxml\"). This usually isn't a problem, but if you run this code on another system, or in a different virtual environment, it may use a different parser and behave differently.\n",
      "\n",
      "The code that caused this warning is on line 389 of the file C:\\Users\\eduar\\anaconda3\\lib\\site-packages\\wikipedia\\wikipedia.py. To get rid of this warning, pass the additional argument 'features=\"lxml\"' to the BeautifulSoup constructor.\n",
      "\n",
      "  lis = BeautifulSoup(html).find_all('li')\n"
     ]
    },
    {
     "name": "stdout",
     "output_type": "stream",
     "text": [
      "Astro (Korean: 아스트로; stylized in all caps) is a South Korean boy band formed by Fantagio. The group is composed of four members: MJ, Jinjin, Cha Eun-woo, and Yoon San-ha. Originally a six-piece group, Rocky departed from the group on February 28, 2023, and Moonbin died on April 19, 2023. They debuted on February 23, 2016, with the extended play Spring Up and were subsequently named as one of the best new K-pop acts of 2016 by Billboard.\n",
      "------------------------------------\n",
      "ASTRO 25 is the next generation of ASTRO digital two-way radio communications by Motorola Solutions.  Motorola first introduced digital two-way radio in the U.S. in 1991 under the name ASTRO Digital Solutions.With the completion of the APCO Project 25 standard, Motorola introduced the ASTRO 25 solution and migrated its ASTRO Digital Solutions customers to ASTRO 25. Project 25 (also known as P25) is a suite of standards for digital radio communications that is designed specifically for law enforcement, fire and medical services to communicate with each other during emergency situations.ASTRO 25 is now the most widely used P25 mission critical voice and data communication network in the world. It is designed to provide reliable and always available communication for public safety agencies.The Original ASTRO 25 format utilizes APCO Project 25 Phase I technology (FDMA). It is the most used format of the ASTRO 25 family of radio systems.\n",
      "The ASTRO 25  Phase II system, which complies with the P25 Phase II standard, uses TDMA technology to deliver both voice and data messaging over a single wireless communications infrastructure. Because ASTRO 25 Phase II is a P25 TDMA system, it offers greater spectrum efficiency, lower equipment costs, advanced radio features and flexibility, and longer battery life. The ASTRO 25 network also ensures encryption key assignment over the system's radio channels and enhanced network security tools.The ASTRO 25 digital radio system is claimed to provide superior audio quality and advanced features which comply with the Federal Communications Commission's narrowbanding requirements. ASTRO 25 currently operates in the 700 MHz, 800 MHz, 900 MHz, UHF and VHF bands for voice and data operation.\n",
      "\n",
      "\n",
      "------------------------------------\n",
      "All-Asian Satellite Television and Radio Operator, doing business as Astro, is a Malaysian satellite television and IPTV provider. It operates in Malaysia and Brunei and operates from the All Asia Broadcast Centre (AABC) in Kuala Lumpur and MEASAT in Cyberjaya. In 2016, the company was recorded as achieving 71% household penetration in Malaysia. It was granted an exclusive license as the sole pay-television provider by the Malaysian federal government until 2017. Astro is a wholly-owned subsidiary of Astro Malaysia Holdings Berhad and is operated by MEASAT Broadcast Network Systems Sdn. Bhd.\n",
      "Astro launched the high-definition platform Astro B.yond in 2009 and the IPTV platform Astro IPTV in 2011, with the latter targeted at consumers who were unable to receive the company's satellite services.Astro formerly operated in Indonesia from 2006 to 2008, under the Astro Nusantara brand and was operated by PT Direct Vision.\n",
      "------------------------------------\n",
      "Astro Boy is a 2009 computer-animated superhero film loosely based on the manga series of the same name by the Japanese writer and illustrator Osamu Tezuka. Produced by the Hong Kong-based company Imagi Animation Studios, it was directed by David Bowers, who co-wrote the screenplay with Timothy Hyde Harris. The film stars Freddie Highmore, Kristen Bell, Nathan Lane, Eugene Levy, Matt Lucas, Bill Nighy, Samuel L. Jackson, Donald Sutherland, Charlize Theron, and Nicolas Cage. In the film, Dr. Tenma (Cage) creates Astro (Highmore), a teenage robot implanted with Toby's memories after the death of Tenma's son. The pair face Stone (Sutherland), the president of Metro City who is running for re-election, for their betrayal.\n",
      "The film was first released in Hong Kong on October 8, 2009, and in the United States on October 23, 2009. It received generally mixed reviews from film critics and was a financial failure, earning $42 million worldwide against its $65 million budget. As a result of the film's poor performance, Imagi  was shut down on February 5, 2010, and Astro Boy became the final film produced by the studio.\n",
      "------------------------------------\n",
      "Astro hitz, formerly known as HITZ.TV was a Malaysian music video channel provided by Astro. It made its debut on 20 October 2003 and serves as a visual entertainment complement of hitz.fm, which is under Astro's radio management arm, AMP Radio Networks (now Astro Radio). Before the channel renumbering on 1 October 2007, the channel broadcasts on channel 16, while broadcasting on channel 705 when the channel renumbering takes effect.\n",
      "The channel relaunched with its new name in April 2009.\n",
      "MeleTOP are selected on Astro Ria and Astro Maya HD also aired on Astro hitz for repeat on Wednesday.\n",
      "Due to declining popularity of the channel and after 13 years of broadcasting, Astro hitz ceased broadcasting on 16 May 2016.\n",
      "\n",
      "\n",
      "------------------------------------\n",
      "Astro Pops are transparent three-color cone-shaped lollipops sold by Leaf Brands. \n",
      "\n",
      "\n",
      "------------------------------------\n",
      "\"Man or Astro-man?\" is an American surf rock group that was formed in Auburn, Alabama in the early 1990s and came to prominence over the following decade.\n",
      "Primarily instrumental, \"Man or Astro-man?\" blended the surf rock style of the early 1960s, like that of Dick Dale and The Spotnicks with the new wave and punk rock sounds of the late 1970s and early 1980s. \"Man or Astro-man?\" was known for their anachronistic dedication to science fiction themes, audio samples, obscure electronic devices (such as theremins and tesla coils), and high-energy live performances. Their earlier albums like Is It ... Man or Astroman? and Destroy All Astromen! were known for their traditional surf rock instrumentation and sci-fi sound bite song introductions, whereas their later albums like EEVIAC... and A Spectrum of Infinite Scale were known for their use of synthesizers, printers (like the Apple ImageWriter II), and their more abstract, experimental sound. Their recordings were often peppered with sound bites from obscure science fiction films and TV shows.\n",
      "It is largely believed that the group took its name from the poster of the U.S. release of the Japanese film The Human Vapor, which includes the tagline \"IS HE MAN OR ASTRO-MAN?\", the line seemingly appropriated as the title of their first album, Is It ... Man or Astroman?.\n",
      "------------------------------------\n",
      "Vance Astro, born Vance Astrovik and going by the code name Major Victory, is a superhero appearing in American comic books published by Marvel Comics. The character is usually depicted as being from the Earth-691 timeline of the Marvel Universe.\n",
      "Astro first appeared in January 1969 as a founding member of the Guardians of the Galaxy in the partial reprint title Marvel Super-Heroes with issue #18.Vance Astro is a mutant who possesses a psychokinetic ability, limited to projecting concussive blasts.\n",
      "------------------------------------\n",
      "All Yours is the second Korean-language studio album by South Korean boy band Astro. It was released on April 5, 2021, through Fantagio Music and Kakao Entertainment. All Yours was certified platinum by the KMCA for more than 250,000 copies sold of the album.\n",
      "\n",
      "\n",
      "------------------------------------\n",
      "Amazon Astro, often shortened to Astro, is a home robot developed by Amazon.com, Inc. It was designed for home security monitoring, remote care of elderly relatives, and as a virtual assistant that can follow a person from room to room.\n",
      "\n",
      "\n",
      "------------------------------------\n",
      "Brian Vaughn Bradley Jr. (born September 27, 1996), better known by his stage names Astro, Stro, and the Astronomical Kid, is an American rapper, producer  and actor. He is known for being a contestant on the first season of The X Factor USA in 2011. Astro took the judges with his original song shot at Simon, for looking at his mom. His mentor was producer and label executive L.A. Reid. Astro was seventh place in the competition. After his appearance on The X Factor, he starred in an episode of Person of Interest. In 2014, he co-starred in the major films Earth to Echo and A Walk Among the Tombstones, and the Fox series Red Band Society.\n",
      "------------------------------------\n",
      "ASTRO Gaming is an American consumer electronics manufacturer specializing in video gaming headsets, peripherals, and accessories.\n",
      "------------------------------------\n",
      "The Houston Astros are an American professional baseball team based in Houston, Texas. The Astros compete in Major League Baseball (MLB) as a member club of the American League (AL) West division, having moved to the division in 2013 after spending their first 51 seasons in the National League (NL).The Astros were established as the Houston Colt .45s and entered the National League as an expansion team in 1962 along with the New York Mets. The current name, reflecting Houston's role as the host of the Johnson Space Center, was adopted three years later, when they moved into the Astrodome, the first domed sports stadium and the so-called \"Eighth Wonder of the World.\" The Astros moved to a new stadium called Minute Maid Park in 2000. The Astros played in the NL West division from 1969 to 1993, then the NL Central division from 1994 to 2012, before being moved to the AL West as part of an MLB realignment in 2013.\n",
      "The Astros posted their first winning record in 1972 and made the playoffs for the first time in 1980, and they won three division titles in the 1980s. Spearheaded by the Killer B's, a collection of prominent hitters that included the Astros' only Hall of Fame members Craig Biggio and Jeff Bagwell, the Astros began reaching major prominence in the late 1990s and early 2000s with four further division titles and two Wild Card appearances, culminating in their first World Series appearance in 2005 where they were swept by the AL’s Chicago White Sox. After a major slump throughout the next decade, the team was purchased by business owner Jim Crane in 2011 for $680 million. Under Crane's ownership, the Astros embraced sabermetrics and pioneered new analytical technologies in their transition to the American League, and by the mid-2010s has transformed from a poor franchise into one of MLB's most dominant and successful clubs. Since then, the Astros have won over 100 games in four seasons, appeared in a record six consecutive American League Championship Series, and won four of the last six American League pennants. During this time, the Astros won the 2017 World Series, their first championship, against the Los Angeles Dodgers; they made later appearances in 2019 against the Washington Nationals, 2021 against the Atlanta Braves, and 2022 against the Philadelphia Phillies, winning their second title in the latter series. They are the only team to win a postseason series in six straight seasons. Their fifth pennant in 2022 made them the second team created in the expansion era to win five league pennants (after the Mets), and they are the fifth expansion team to have won two World championships.\n",
      "During the 2019–2020 off-season, the Astros became the prime suspect in an MLB-wide sign stealing scandal that took place during the 2017 and 2018 seasons, resulting in the suspensions of manager A. J. Hinch and general manager Jeff Luhnow, with Crane later firing both. The Astros' roles in the scandal, as well as what were believed to be minimal punishments for its players, have caused the Astros to become one of the most maligned baseball teams in the modern age. Despite this, many have noted the Astros' continued success, and they are widely seen as the most dominant team in the American League today.From 1962 through the end of the 2022 season, the Astros' all-time record is 4,831-4,820 (.501). In addition to having the most postseason appearances by an expansion team, they are the only expansion era team with an all-time winning record.\n",
      "------------------------------------\n",
      "Astro Boy (アストロボーイ・鉄腕アトム, Asutoro Bōi: Tetsuwan Atomu, lit. \"Astro Boy: Mighty Atom\") is a remake from the 1963 anime series of the same name created by Osamu Tezuka. Produced by Tezuka Productions, Sony Pictures Entertainment Japan, Animax, Dentsu, and Fuji TV, it was directed by Kazuya Konaka, with Marc Handler as the story editor, Shinji Seya designing the characters, Shinji Aramaki and Takeshi Takakura designing the mechanical elements, Keiichirō Mochizuki serving as chief animation director, and Takashi Yoshimatsu composing the music. The anime was created to celebrate the birthdate of Atom/Astro Boy, as well as the 40th anniversary of the original TV series. It kept the same classic art style as the original manga and anime, but was renewed and modernized with more lush, high-quality, near-theatrical animation and visuals, combining the playfulness of the early anime with the darker, more serious and dramatic science fiction themes of the manga and the 1980 series. The anime was broadcast in Japan on Fuji TV from April 6, 2003, to March 28, 2004, every Sunday from 9:30 to 10:00 JST, for a total of 50 episodes, and it was also aired outside of Japan on Kids' WB in the United States and other local broadcasters overseas.\n",
      "------------------------------------\n",
      "Astro MAX was a personal video recorder (PVR) service for Astro launched in July 2006. It marked the first PVR system ever to be introduced in Malaysia, though LG's PVR-integrated Time Machine TV introduced later that year. Its successor is the Astro B.yond PVR.\n",
      "\n",
      "\n",
      "------------------------------------\n",
      "Kurt Busiek's Astro City is an American superhero anthology comic book series centered on a fictional American city of that name. Created and written by Kurt Busiek, the series is mostly illustrated by Brent Anderson, with character designs and painted covers by Alex Ross.\n",
      "The first volume was published from 1995 to 1996 by Image Comics. In 1996, a second volume was launched under the Homage Comics imprint of Image partner studio WildStorm, which was then acquired by DC Comics, where the series later transitioned to the WildStorm Signature Series imprint and continued until 2010. During this period it switched from a regular ongoing series to a sequence of periodic mini-series and special issues. A third, ongoing volume was launched under DC's Vertigo imprint in 2013 and concluded in 2018, reverting to occasional miniseries and original graphic novels. Counting all series, mini-series and special issues, over 100 issues have been published.\n",
      "------------------------------------\n"
     ]
    }
   ],
   "source": [
    "import wikipedia\n",
    "\n",
    "search_results = wikipedia.search('astro', results=20)\n",
    "\n",
    "summaries = []\n",
    "for title in search_results:\n",
    "    try:\n",
    "        page = wikipedia.page(title)\n",
    "        summaries.append(page.summary)\n",
    "    except:\n",
    "        continue\n",
    "\n",
    "for summary in summaries:\n",
    "    print(summary)\n",
    "    print('------------------------------------')"
   ]
  },
  {
   "cell_type": "code",
   "execution_count": 13,
   "id": "59748f62",
   "metadata": {},
   "outputs": [
    {
     "name": "stdout",
     "output_type": "stream",
     "text": [
      "Artículo: Astro | Contiene Palabra Clave: 0\n",
      "Artículo: Astro (South Korean band) | Contiene Palabra Clave: 1\n",
      "Artículo: Astro (Motorola) | Contiene Palabra Clave: 1\n",
      "Artículo: Astro Boy | Contiene Palabra Clave: 0\n",
      "Artículo: Chevrolet Astro | Contiene Palabra Clave: 0\n",
      "Artículo: Astro (television) | Contiene Palabra Clave: 1\n",
      "Artículo: Astro Boy (film) | Contiene Palabra Clave: 1\n",
      "Artículo: Astro hitz | Contiene Palabra Clave: 1\n",
      "Artículo: Moonbin | Contiene Palabra Clave: 0\n",
      "Artículo: Astro Pops | Contiene Palabra Clave: 1\n",
      "Artículo: Man or Astro-man? | Contiene Palabra Clave: 1\n",
      "Artículo: Vance Astro | Contiene Palabra Clave: 1\n",
      "Artículo: All Yours (Astro album) | Contiene Palabra Clave: 1\n",
      "Artículo: Amazon Astro | Contiene Palabra Clave: 1\n",
      "Artículo: Astro (rapper) | Contiene Palabra Clave: 1\n",
      "Artículo: Astro Gaming | Contiene Palabra Clave: 1\n",
      "Artículo: Houston Astros | Contiene Palabra Clave: 1\n",
      "Artículo: Astro Boy (2003 TV series) | Contiene Palabra Clave: 1\n",
      "Artículo: Astro MAX | Contiene Palabra Clave: 1\n",
      "Artículo: Astro City | Contiene Palabra Clave: 1\n"
     ]
    }
   ],
   "source": [
    "search_results = wikipedia.search('astro', results=20)\n",
    "\n",
    "contains_keyword = []\n",
    "for title in search_results:\n",
    "    try:\n",
    "        page = wikipedia.page(title)\n",
    "        summary = page.summary.lower()\n",
    "        if 'astro' in summary or 'ciencia' in summary:\n",
    "            contains_keyword.append(1)\n",
    "        else:\n",
    "            contains_keyword.append(0)\n",
    "    except:\n",
    "        contains_keyword.append(0)\n",
    "        continue\n",
    "\n",
    "for result, keyword in zip(search_results, contains_keyword):\n",
    "    print(f\"Artículo: {result} | Contiene Palabra Clave: {keyword}\")\n"
   ]
  },
  {
   "cell_type": "code",
   "execution_count": 15,
   "id": "9e364f17",
   "metadata": {},
   "outputs": [
    {
     "name": "stderr",
     "output_type": "stream",
     "text": [
      "C:\\Users\\eduar\\anaconda3\\lib\\site-packages\\wikipedia\\wikipedia.py:389: GuessedAtParserWarning: No parser was explicitly specified, so I'm using the best available HTML parser for this system (\"lxml\"). This usually isn't a problem, but if you run this code on another system, or in a different virtual environment, it may use a different parser and behave differently.\n",
      "\n",
      "The code that caused this warning is on line 389 of the file C:\\Users\\eduar\\anaconda3\\lib\\site-packages\\wikipedia\\wikipedia.py. To get rid of this warning, pass the additional argument 'features=\"lxml\"' to the BeautifulSoup constructor.\n",
      "\n",
      "  lis = BeautifulSoup(html).find_all('li')\n"
     ]
    },
    {
     "name": "stdout",
     "output_type": "stream",
     "text": [
      "      pageid                      titulo  \\\n",
      "0   49596116   Astro (South Korean band)   \n",
      "1   10371580            Astro (Motorola)   \n",
      "2   25645509          Astro (television)   \n",
      "3   10556722            Astro Boy (film)   \n",
      "4   11629041                  Astro hitz   \n",
      "5   35511129                  Astro Pops   \n",
      "6    1447131           Man or Astro-man?   \n",
      "7    2312277                 Vance Astro   \n",
      "8   67191342     All Yours (Astro album)   \n",
      "9   68838431                Amazon Astro   \n",
      "10  41338151              Astro (rapper)   \n",
      "11  65282619                Astro Gaming   \n",
      "12     13894              Houston Astros   \n",
      "13   5205117  Astro Boy (2003 TV series)   \n",
      "14  21031334                   Astro MAX   \n",
      "15    593661                  Astro City   \n",
      "\n",
      "                                              resumen  contiene_palabra  \n",
      "0   astro (korean: 아스트로; stylized in all caps) is ...                 1  \n",
      "1   astro 25 is the next generation of astro digit...                 1  \n",
      "2   all-asian satellite television and radio opera...                 1  \n",
      "3   astro boy is a 2009 computer-animated superher...                 1  \n",
      "4   astro hitz, formerly known as hitz.tv was a ma...                 1  \n",
      "5   astro pops are transparent three-color cone-sh...                 1  \n",
      "6   \"man or astro-man?\" is an american surf rock g...                 1  \n",
      "7   vance astro, born vance astrovik and going by ...                 1  \n",
      "8   all yours is the second korean-language studio...                 1  \n",
      "9   amazon astro, often shortened to astro, is a h...                 1  \n",
      "10  brian vaughn bradley jr. (born september 27, 1...                 1  \n",
      "11  astro gaming is an american consumer electroni...                 1  \n",
      "12  the houston astros are an american professiona...                 1  \n",
      "13  astro boy (アストロボーイ・鉄腕アトム, asutoro bōi: tetsuwa...                 1  \n",
      "14  astro max was a personal video recorder (pvr) ...                 1  \n",
      "15  kurt busiek's astro city is an american superh...                 1  \n"
     ]
    }
   ],
   "source": [
    "import pandas as pd\n",
    "\n",
    "search_results = wikipedia.search('astro', results=20)\n",
    "\n",
    "data = []\n",
    "for title in search_results:\n",
    "    try:\n",
    "        page = wikipedia.page(title)\n",
    "        summary = page.summary.lower()\n",
    "        contains_keyword = 1 if 'astro' in summary or 'ciencia' in summary else 0\n",
    "        data.append({'pageid': page.pageid, 'titulo': page.title, 'resumen': summary, 'contiene_palabra': contains_keyword})\n",
    "    except:\n",
    "        continue\n",
    "\n",
    "df = pd.DataFrame(data)\n",
    "print(df)\n"
   ]
  }
 ],
 "metadata": {
  "kernelspec": {
   "display_name": "Python 3 (ipykernel)",
   "language": "python",
   "name": "python3"
  },
  "language_info": {
   "codemirror_mode": {
    "name": "ipython",
    "version": 3
   },
   "file_extension": ".py",
   "mimetype": "text/x-python",
   "name": "python",
   "nbconvert_exporter": "python",
   "pygments_lexer": "ipython3",
   "version": "3.9.13"
  }
 },
 "nbformat": 4,
 "nbformat_minor": 5
}
